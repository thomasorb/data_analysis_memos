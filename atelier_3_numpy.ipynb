{
 "cells": [
  {
   "cell_type": "markdown",
   "metadata": {},
   "source": [
    "# Numpy"
   ]
  },
  {
   "cell_type": "code",
   "execution_count": 2,
   "metadata": {},
   "outputs": [],
   "source": [
    "import numpy as np # importe la librairies et l'associe au raccourci 'np'"
   ]
  },
  {
   "cell_type": "markdown",
   "metadata": {},
   "source": [
    "## créer un tableau"
   ]
  },
  {
   "cell_type": "code",
   "execution_count": 4,
   "metadata": {},
   "outputs": [
    {
     "name": "stdout",
     "output_type": "stream",
     "text": [
      "[1, 2, 5, 6, -8, 1]\n"
     ]
    }
   ],
   "source": [
    "# à partir d'une liste ou d'un tuple\n",
    "a = [1,2,5,6,-8,1]\n",
    "arr = np.array(a)\n",
    "print a"
   ]
  },
  {
   "cell_type": "code",
   "execution_count": 3,
   "metadata": {},
   "outputs": [
    {
     "name": "stdout",
     "output_type": "stream",
     "text": [
      "[0 1 2 3 4]\n",
      "[1. 2. 3. 4. 5. 6. 7. 8. 9.]\n",
      "[ 1  3  5  7  9 11 13 15 17 19]\n",
      "[0.         0.11111111 0.22222222 0.33333333 0.44444444 0.55555556\n",
      " 0.66666667 0.77777778 0.88888889 1.        ]\n",
      "[0. 0. 0. 0. 0.]\n",
      "[1. 1. 1. 1. 1.]\n"
     ]
    }
   ],
   "source": [
    "# à partir d'un générateur\n",
    "print np.arange(5)\n",
    "print np.arange(1,10)\n",
    "print np.arange(1,20,2)\n",
    "print np.linspace(0,1,10)\n",
    "print np.zeros(5) # size 5, filled with zeroes\n",
    "print np.ones(5) # size 5, filled with ones"
   ]
  },
  {
   "cell_type": "markdown",
   "metadata": {},
   "source": [
    "## opérations sur les tableaux"
   ]
  },
  {
   "cell_type": "code",
   "execution_count": 4,
   "metadata": {},
   "outputs": [
    {
     "name": "stdout",
     "output_type": "stream",
     "text": [
      "[-5 -4 -3 -2 -1  0  1  2  3  4]\n",
      "[ 0  2  4  6  8 10 12 14 16 18]\n",
      "[-5 -3 -1  1  3  5  7  9 11 13]\n",
      "[1.00000000e+00 2.71828183e+00 7.38905610e+00 2.00855369e+01\n",
      " 5.45981500e+01 1.48413159e+02 4.03428793e+02 1.09663316e+03\n",
      " 2.98095799e+03 8.10308393e+03]\n"
     ]
    }
   ],
   "source": [
    "a = np.arange(10)\n",
    "print a - 5\n",
    "print a * 2\n",
    "print a * 2 - 5\n",
    "print np.exp(a)"
   ]
  },
  {
   "cell_type": "code",
   "execution_count": 13,
   "metadata": {},
   "outputs": [
    {
     "name": "stdout",
     "output_type": "stream",
     "text": [
      "[ 0  1  4  9 16 25 36 49 64 81]\n",
      "285\n"
     ]
    }
   ],
   "source": [
    "a = np.arange(10)\n",
    "b = np.arange(10)\n",
    "print a * b\n",
    "print a.dot(b)"
   ]
  },
  {
   "cell_type": "markdown",
   "metadata": {},
   "source": [
    "## indexing"
   ]
  },
  {
   "cell_type": "code",
   "execution_count": 20,
   "metadata": {},
   "outputs": [
    {
     "name": "stdout",
     "output_type": "stream",
     "text": [
      "[ 0  1  2  3  4  5  6  7  8  9 10 11]\n",
      "[9 8 7 6 5 4 3 2 1 0]\n",
      "[False False False False False False  True  True  True  True]\n",
      "[False False False False False False  True  True False False]\n",
      "[6 7]\n",
      "[1.         1.10517092 1.22140276 1.34985881 1.4918247  1.64872127\n",
      " 1.8221188  2.01375271 2.22554093 2.45960311]\n",
      "[1.8221188  2.01375271]\n"
     ]
    }
   ],
   "source": [
    "print np.arange(25)[0:12] # slicing\n",
    "print np.arange(10)[::-1] # revert array\n",
    "print np.arange(10) > 5 # a comparison operation returns an array of bool ...\n",
    "print (np.arange(10) > 5) * (np.arange(10) < 8) # ... which are very easy to manipulate\n",
    "# return a list of indexes which can be passed \n",
    "# to an array of same shape - but not the same array\n",
    "a = np.arange(10)\n",
    "indexes = np.nonzero((a > 5) * (a < 8))\n",
    "print a[indexes]\n",
    "\n",
    "a = np.exp(np.arange(10, dtype=float) / 10.)\n",
    "print a\n",
    "print a[indexes]"
   ]
  },
  {
   "cell_type": "markdown",
   "metadata": {},
   "source": [
    "## toujours penser en terme d'opérations matricielles, toujours réflechir avant de faire une boucle for"
   ]
  },
  {
   "cell_type": "code",
   "execution_count": 27,
   "metadata": {},
   "outputs": [
    {
     "name": "stdout",
     "output_type": "stream",
     "text": [
      "[[ 0  1  2  3  4  5  6  7  8  9]\n",
      " [10 11 12 13 14 15 16 17 18 19]\n",
      " [20 21 22 23 24 25 26 27 28 29]\n",
      " [30 31 32 33 34 35 36 37 38 39]\n",
      " [40 41 42 43 44 45 46 47 48 49]\n",
      " [50 51 52 53 54 55 56 57 58 59]\n",
      " [60 61 62 63 64 65 66 67 68 69]\n",
      " [70 71 72 73 74 75 76 77 78 79]\n",
      " [80 81 82 83 84 85 86 87 88 89]\n",
      " [90 91 92 93 94 95 96 97 98 99]]\n",
      "[[   0    1    4    9   16   25   36   49   64   81]\n",
      " [ 100  121  144  169  196  225  256  289  324  361]\n",
      " [ 400  441  484  529  576  625  676  729  784  841]\n",
      " [ 900  961 1024 1089 1156 1225 1296 1369 1444 1521]\n",
      " [1600 1681 1764 1849 1936 2025 2116 2209 2304 2401]\n",
      " [2500 2601 2704 2809 2916 3025 3136 3249 3364 3481]\n",
      " [3600 3721 3844 3969 4096 4225 4356 4489 4624 4761]\n",
      " [4900 5041 5184 5329 5476 5625 5776 5929 6084 6241]\n",
      " [6400 6561 6724 6889 7056 7225 7396 7569 7744 7921]\n",
      " [8100 8281 8464 8649 8836 9025 9216 9409 9604 9801]]\n",
      "The slowest run took 38.31 times longer than the fastest. This could mean that an intermediate result is being cached.\n",
      "1000000 loops, best of 3: 392 ns per loop\n"
     ]
    }
   ],
   "source": [
    "a = np.arange(100).reshape(10,10)\n",
    "print a\n",
    "b = np.arange(100).reshape(10,10)\n",
    "c = a * b\n",
    "print c\n",
    "% timeit a * b"
   ]
  },
  {
   "cell_type": "code",
   "execution_count": 26,
   "metadata": {},
   "outputs": [
    {
     "name": "stdout",
     "output_type": "stream",
     "text": [
      "[[   0    1    4    9   16   25   36   49   64   81]\n",
      " [ 100  121  144  169  196  225  256  289  324  361]\n",
      " [ 400  441  484  529  576  625  676  729  784  841]\n",
      " [ 900  961 1024 1089 1156 1225 1296 1369 1444 1521]\n",
      " [1600 1681 1764 1849 1936 2025 2116 2209 2304 2401]\n",
      " [2500 2601 2704 2809 2916 3025 3136 3249 3364 3481]\n",
      " [3600 3721 3844 3969 4096 4225 4356 4489 4624 4761]\n",
      " [4900 5041 5184 5329 5476 5625 5776 5929 6084 6241]\n",
      " [6400 6561 6724 6889 7056 7225 7396 7569 7744 7921]\n",
      " [8100 8281 8464 8649 8836 9025 9216 9409 9604 9801]]\n",
      "10000 loops, best of 3: 35.4 µs per loop\n"
     ]
    }
   ],
   "source": [
    "a = np.arange(100).reshape(10,10)\n",
    "b = np.arange(100).reshape(10,10)\n",
    "def product(_a, _b):\n",
    "    c = np.empty_like(a)\n",
    "    c.fill(np.nan)\n",
    "    for i in range(a.shape[0]):\n",
    "        for j in range(a.shape[1]):\n",
    "            c[i,j] = a[i,j] * b[i,j]\n",
    "    return c\n",
    "print product(a, b)\n",
    "% timeit product(a, b)\n",
    "        "
   ]
  },
  {
   "cell_type": "markdown",
   "metadata": {},
   "source": [
    "## statistique de base sur des tableaux"
   ]
  },
  {
   "cell_type": "code",
   "execution_count": 40,
   "metadata": {},
   "outputs": [
    {
     "name": "stdout",
     "output_type": "stream",
     "text": [
      "[        nan  0.85058773  2.10506325 ...  0.2546696  -0.21939749\n",
      "  0.34794939]\n",
      "0.0011455239406846782\n",
      "0.0007221459948510592\n",
      "-1.2804301907142988\n",
      "1.2867596112687691\n",
      "-4.258480910929663\n",
      "4.557603873795864\n",
      "(array([0]),)\n"
     ]
    }
   ],
   "source": [
    "a = np.random.standard_normal(100000)\n",
    "a[0] = np.nan\n",
    "print a\n",
    "print np.nanmean(a)\n",
    "print np.nanmedian(a)\n",
    "print np.nanpercentile(a, 10)\n",
    "print np.nanpercentile(a, 90)\n",
    "print np.nanmin(a)\n",
    "print np.nanmax(a)\n",
    "print np.nonzero(np.isnan(a))"
   ]
  },
  {
   "cell_type": "code",
   "execution_count": 41,
   "metadata": {},
   "outputs": [
    {
     "ename": "NameError",
     "evalue": "name 'vit' is not defined",
     "output_type": "error",
     "traceback": [
      "\u001b[0;31m---------------------------------------------------------------------------\u001b[0m",
      "\u001b[0;31mNameError\u001b[0m                                 Traceback (most recent call last)",
      "\u001b[0;32m<ipython-input-41-59734fa91c42>\u001b[0m in \u001b[0;36m<module>\u001b[0;34m()\u001b[0m\n\u001b[0;32m----> 1\u001b[0;31m \u001b[0mvit\u001b[0m\u001b[0;34m[\u001b[0m\u001b[0mnp\u001b[0m\u001b[0;34m.\u001b[0m\u001b[0mnonzero\u001b[0m\u001b[0;34m(\u001b[0m\u001b[0mvit_err\u001b[0m \u001b[0;34m>\u001b[0m \u001b[0;36m5\u001b[0m\u001b[0;34m)\u001b[0m\u001b[0;34m]\u001b[0m \u001b[0;34m=\u001b[0m \u001b[0mnp\u001b[0m\u001b[0;34m.\u001b[0m\u001b[0mnan\u001b[0m\u001b[0;34m\u001b[0m\u001b[0m\n\u001b[0m\u001b[1;32m      2\u001b[0m \u001b[0;34m\u001b[0m\u001b[0m\n",
      "\u001b[0;31mNameError\u001b[0m: name 'vit' is not defined"
     ]
    }
   ],
   "source": [
    "vit[np.nonzero(vit_err > 5)] = np.nan\n",
    "\n"
   ]
  },
  {
   "cell_type": "code",
   "execution_count": null,
   "metadata": {},
   "outputs": [],
   "source": [
    "print np.min"
   ]
  },
  {
   "cell_type": "code",
   "execution_count": null,
   "metadata": {},
   "outputs": [],
   "source": []
  }
 ],
 "metadata": {
  "kernelspec": {
   "display_name": "orb",
   "language": "python",
   "name": "orb"
  },
  "language_info": {
   "codemirror_mode": {
    "name": "ipython",
    "version": 2
   },
   "file_extension": ".py",
   "mimetype": "text/x-python",
   "name": "python",
   "nbconvert_exporter": "python",
   "pygments_lexer": "ipython2",
   "version": "2.7.14"
  }
 },
 "nbformat": 4,
 "nbformat_minor": 2
}
