{
 "cells": [
  {
   "cell_type": "markdown",
   "metadata": {},
   "source": [
    "# Understanding fitting algorithms"
   ]
  },
  {
   "cell_type": "markdown",
   "metadata": {},
   "source": [
    "## gradient descent\n",
    "\n",
    "Minoux - Programmation mathématique (2008)\n",
    "\n",
    "https://fr.wikipedia.org/wiki/Algorithme_du_gradient"
   ]
  },
  {
   "cell_type": "code",
   "execution_count": 7,
   "metadata": {},
   "outputs": [],
   "source": [
    "%matplotlib ipympl\n",
    "import numpy as np\n",
    "import pylab as pl\n",
    "from mpl_toolkits.mplot3d import Axes3D"
   ]
  },
  {
   "cell_type": "markdown",
   "metadata": {},
   "source": [
    "## Example with a convex optimization problem (fitting a gaussian)"
   ]
  },
  {
   "cell_type": "code",
   "execution_count": 8,
   "metadata": {},
   "outputs": [
    {
     "data": {
      "application/vnd.jupyter.widget-view+json": {
       "model_id": "2d5b42ae69914024a10ab7f5c8151372",
       "version_major": 2,
       "version_minor": 0
      },
      "text/plain": [
       "FigureCanvasNbAgg()"
      ]
     },
     "metadata": {},
     "output_type": "display_data"
    },
    {
     "data": {
      "text/plain": [
       "<matplotlib.collections.PathCollection at 0x7fee99afa9d0>"
      ]
     },
     "execution_count": 8,
     "metadata": {},
     "output_type": "execute_result"
    }
   ],
   "source": [
    "def model_gauss(x, amp, sigma):\n",
    "    return amp * np.exp(-x**2/sigma**2)\n",
    "\n",
    "def model_gauss_grad_amp(x, amp, sigma):\n",
    "    return np.exp(-x**2/sigma**2)\n",
    "\n",
    "def model_gauss_grad_sigma(x, amp, sigma):\n",
    "    return 2 * x**2 / sigma**3. * amp * np.exp(-x**2/sigma**2)\n",
    "\n",
    "SIGMA = 0.3\n",
    "AMP = 1\n",
    "    \n",
    "x = np.linspace(-1,1,100)\n",
    "data_gauss = model_gauss(x, AMP, SIGMA)\n",
    "data_gauss += np.random.standard_normal(data_gauss.size) * 0.03\n",
    "\n",
    "pl.figure(figsize=(12,8))\n",
    "pl.plot(x, model_gauss(x, AMP, SIGMA))\n",
    "pl.scatter(x, data_gauss, c='orange')\n",
    "#pl.plot(x, model_gauss_grad(x, AMP, SIGMA))"
   ]
  },
  {
   "cell_type": "markdown",
   "metadata": {},
   "source": [
    "https://fr.wikipedia.org/wiki/Algorithme_du_gradient"
   ]
  },
  {
   "cell_type": "code",
   "execution_count": 9,
   "metadata": {
    "scrolled": false
   },
   "outputs": [
    {
     "data": {
      "application/vnd.jupyter.widget-view+json": {
       "model_id": "9571ecadf5154039886ad38a791e812a",
       "version_major": 2,
       "version_minor": 0
      },
      "text/plain": [
       "FigureCanvasNbAgg()"
      ]
     },
     "metadata": {},
     "output_type": "display_data"
    },
    {
     "name": "stdout",
     "output_type": "stream",
     "text": [
      "minimum =  0.09744719067724111\n"
     ]
    }
   ],
   "source": [
    "def objective_function(_data, _model, _params):\n",
    "    return np.nansum((_model(*_params) - _data)**2)\n",
    "\n",
    "def local_grad(_data, _model, _model_grad, _params):\n",
    "    # be careful gradient is computed for each parameter independantly\n",
    "    #if len(_model_grad) != len(_params): raise Exception('the derivative wrt each parameter must be given')\n",
    "    return np.array([np.nansum(2. * (_model(*_params) - _data) * igrad(*_params)) for igrad in _model_grad])\n",
    "\n",
    "amps = np.linspace(0.5,1.5,20)\n",
    "sigmas = np.linspace(0.1, 0.5, 20)\n",
    "\n",
    "fig = pl.figure(figsize=(10,10))\n",
    "ax = fig.add_subplot(111, projection='3d')\n",
    "X, Y = np.meshgrid(amps, sigmas)\n",
    "zs = np.array([objective_function(data_gauss, model_gauss, [x, iamp, jsigma]) \n",
    "               for iamp, jsigma in zip(np.ravel(X), np.ravel(Y))])\n",
    "Z = zs.reshape(X.shape)\n",
    "\n",
    "ax.plot_surface(X, Y, Z)\n",
    "\n",
    "ax.set_xlabel('amp')\n",
    "ax.set_ylabel('sigma')\n",
    "ax.set_zlabel('objective function')\n",
    "\n",
    "print 'minimum = ', np.nanmin(zs)"
   ]
  },
  {
   "cell_type": "code",
   "execution_count": 10,
   "metadata": {
    "scrolled": false
   },
   "outputs": [
    {
     "name": "stdout",
     "output_type": "stream",
     "text": [
      "result:  [0.97 0.31]\n",
      "number of iterations 87\n"
     ]
    },
    {
     "data": {
      "application/vnd.jupyter.widget-view+json": {
       "model_id": "e443b02dc29442f99d6cd52b888c5b2f",
       "version_major": 2,
       "version_minor": 0
      },
      "text/plain": [
       "FigureCanvasNbAgg()"
      ]
     },
     "metadata": {},
     "output_type": "display_data"
    },
    {
     "data": {
      "application/vnd.jupyter.widget-view+json": {
       "model_id": "739d3effe37048fcb4e09172434aedff",
       "version_major": 2,
       "version_minor": 0
      },
      "text/plain": [
       "FigureCanvasNbAgg()"
      ]
     },
     "metadata": {},
     "output_type": "display_data"
    },
    {
     "data": {
      "application/vnd.jupyter.widget-view+json": {
       "model_id": "1f661921012846528528a5c3bea4cd1c",
       "version_major": 2,
       "version_minor": 0
      },
      "text/plain": [
       "FigureCanvasNbAgg()"
      ]
     },
     "metadata": {},
     "output_type": "display_data"
    },
    {
     "data": {
      "text/plain": [
       "[<matplotlib.lines.Line2D at 0x7fee98054c50>]"
      ]
     },
     "execution_count": 10,
     "metadata": {},
     "output_type": "execute_result"
    }
   ],
   "source": [
    "# initial parameters\n",
    "p_last = (0.1, 0.1)\n",
    "\n",
    "# iterations step size\n",
    "LAMBDA_0 = 0.01\n",
    "OBJECTIVE_FUNCTION_CHANGE_STOP_CONDITION = LAMBDA_0 / 2.\n",
    "MAX_ITER_LIMIT = 500\n",
    "\n",
    "last_objval = 1e5\n",
    "last_grad = np.array((1e5, 1e5))\n",
    "iterations = list()\n",
    "\n",
    "# minimization loop\n",
    "while True:\n",
    "    params = [x, p_last[0], p_last[1]]\n",
    "    \n",
    "    # compute grad\n",
    "    igrad = local_grad(data_gauss, model_gauss, [model_gauss_grad_amp, model_gauss_grad_sigma], params)\n",
    "    \n",
    "    # compute new set of parameters based on the direction of the gradient on both axes\n",
    "    ip = p_last - LAMBDA_0 * np.array(igrad / np.abs(igrad))\n",
    "    \n",
    "    # compute objective function value\n",
    "    iobjval = objective_function(data_gauss, model_gauss, params)\n",
    "    \n",
    "    # adding last iteration to the list of iterations\n",
    "    iterations.append((ip[0], ip[1], float(iobjval)))\n",
    "    \n",
    "    # break if objective function does not change by more than a given threshold\n",
    "    if np.abs(last_objval - iobjval) < OBJECTIVE_FUNCTION_CHANGE_STOP_CONDITION:\n",
    "        'objective function change break'\n",
    "        break\n",
    "    \n",
    "    # check if we're coming back to the same point and break (loop detection)\n",
    "    if len(iterations) > 1:\n",
    "        if np.any(np.sum(np.abs(np.array(iterations[:-1])[:,:1] - ip),axis=1) == 0): \n",
    "            print 'looping iterations break'\n",
    "            break\n",
    "            \n",
    "    if len(iterations) == MAX_ITER_LIMIT: \n",
    "        break\n",
    "\n",
    "    # reset last values\n",
    "    last_objval = float(iobjval)\n",
    "    last_grad = np.array(igrad)\n",
    "    p_last = np.array(ip)\n",
    "    \n",
    "print 'result: ', ip\n",
    "print 'number of iterations', len(iterations)\n",
    "\n",
    "iterations = np.array(iterations)\n",
    "pl.figure(figsize=(15,8))\n",
    "pl.plot(iterations[:,0], iterations[:,1])\n",
    "pl.scatter(iterations[:,0], iterations[:,1], c='black', marker='+')\n",
    "pl.axvline(x=AMP, c='orange', ls=':')\n",
    "pl.axhline(y=SIGMA, c='orange', ls=':')\n",
    "pl.grid()\n",
    "pl.xlabel('amplitude')\n",
    "pl.ylabel('sigma')\n",
    "\n",
    "fig = pl.figure(figsize=(15,8))\n",
    "ax = fig.add_subplot(111, projection='3d')\n",
    "ax.plot(iterations[:,0], iterations[:,1], iterations[:,2])\n",
    "\n",
    "ax.set_xlabel('amp')\n",
    "ax.set_ylabel('sigma')\n",
    "ax.set_zlabel('objective function')\n",
    "\n",
    "pl.figure(figsize=(15,8))\n",
    "pl.plot(x, model_gauss(x, AMP, SIGMA), ls=':')\n",
    "pl.scatter(x, data_gauss, c='orange')\n",
    "pl.plot(x, model_gauss(x, ip[0], ip[1]), c='red')\n",
    "\n",
    "\n"
   ]
  },
  {
   "cell_type": "markdown",
   "metadata": {},
   "source": [
    "## Objective function of a sinc (non convex optimization)"
   ]
  },
  {
   "cell_type": "code",
   "execution_count": 11,
   "metadata": {},
   "outputs": [
    {
     "data": {
      "application/vnd.jupyter.widget-view+json": {
       "model_id": "e1b03d72c0264e9580dc30e36868d4db",
       "version_major": 2,
       "version_minor": 0
      },
      "text/plain": [
       "FigureCanvasNbAgg()"
      ]
     },
     "metadata": {},
     "output_type": "display_data"
    },
    {
     "data": {
      "text/plain": [
       "<matplotlib.collections.PathCollection at 0x7fee83fa4190>"
      ]
     },
     "execution_count": 11,
     "metadata": {},
     "output_type": "execute_result"
    }
   ],
   "source": [
    "import orb.utils.spectrum\n",
    "\n",
    "def model_sinc(x, amp, dx):\n",
    "    return orb.utils.spectrum.sinc1d(x, 0, amp, dx, 0.1)\n",
    "\n",
    "DX = 0.\n",
    "AMP = 1\n",
    "    \n",
    "x = np.linspace(-1,1,100)\n",
    "data_sinc = model_sinc(x, AMP, DX)\n",
    "data_sinc += np.random.standard_normal(data_sinc.size) * 0.03\n",
    "\n",
    "pl.figure(figsize=(12,8))\n",
    "pl.plot(x, model_sinc(x, AMP, DX))\n",
    "pl.scatter(x, data_sinc, c='orange')"
   ]
  },
  {
   "cell_type": "markdown",
   "metadata": {},
   "source": [
    "### objective function of the amplitude and the position (dx)"
   ]
  },
  {
   "cell_type": "code",
   "execution_count": 12,
   "metadata": {},
   "outputs": [
    {
     "data": {
      "application/vnd.jupyter.widget-view+json": {
       "model_id": "ea60f8a9d8ac498da4db5760f0d026f9",
       "version_major": 2,
       "version_minor": 0
      },
      "text/plain": [
       "FigureCanvasNbAgg()"
      ]
     },
     "metadata": {},
     "output_type": "display_data"
    },
    {
     "name": "stdout",
     "output_type": "stream",
     "text": [
      "minimum =  1.2138340736398519\n"
     ]
    }
   ],
   "source": [
    "amps = np.linspace(0.5,1.5,20)\n",
    "dxs = np.linspace(-0.5, 0.5, 20)\n",
    "\n",
    "fig = pl.figure(figsize=(14,14))\n",
    "ax = fig.add_subplot(111, projection='3d')\n",
    "X, Y = np.meshgrid(amps, dxs)\n",
    "zs = np.array([objective_function(data_sinc, model_sinc, [x, iamp, jdx]) \n",
    "               for iamp, jdx in zip(np.ravel(X), np.ravel(Y))])\n",
    "Z = zs.reshape(X.shape)\n",
    "\n",
    "ax.plot_surface(X, Y, Z)\n",
    "\n",
    "ax.set_xlabel('amp')\n",
    "ax.set_ylabel('dx')\n",
    "ax.set_zlabel('objective function')\n",
    "\n",
    "print 'minimum = ', np.nanmin(zs)"
   ]
  },
  {
   "cell_type": "markdown",
   "metadata": {},
   "source": [
    "### objective function of the amplitude and the position (dx)"
   ]
  },
  {
   "cell_type": "code",
   "execution_count": 14,
   "metadata": {},
   "outputs": [
    {
     "data": {
      "application/vnd.jupyter.widget-view+json": {
       "model_id": "633e417002a14bea9315d69a57be4aab",
       "version_major": 2,
       "version_minor": 0
      },
      "text/plain": [
       "FigureCanvasNbAgg()"
      ]
     },
     "metadata": {},
     "output_type": "display_data"
    },
    {
     "data": {
      "application/vnd.jupyter.widget-view+json": {
       "model_id": "c9900474c4244a8daac545ac0f4513e9",
       "version_major": 2,
       "version_minor": 0
      },
      "text/plain": [
       "FigureCanvasNbAgg()"
      ]
     },
     "metadata": {},
     "output_type": "display_data"
    },
    {
     "name": "stdout",
     "output_type": "stream",
     "text": [
      "minimum =  0.25930468962402076\n"
     ]
    }
   ],
   "source": [
    "def model_sinc(x, fwhm, dx):\n",
    "    return orb.utils.spectrum.sinc1d(x, 0, 1, dx, fwhm)\n",
    "\n",
    "DX = 0.\n",
    "FWHM = 0.1\n",
    "    \n",
    "x = np.linspace(-1,1,100)\n",
    "data_sinc = model_sinc(x, FWHM, DX)\n",
    "data_sinc += np.random.standard_normal(data_sinc.size) * 0.03\n",
    "\n",
    "pl.figure(figsize=(12,8))\n",
    "pl.plot(x, model_sinc(x, FWHM, DX))\n",
    "pl.scatter(x, data_sinc, c='orange')\n",
    "\n",
    "fwhms = np.linspace(0.01, 0.3, 50)\n",
    "dxs = np.linspace(-0.5, 0.5, 50)\n",
    "\n",
    "fig = pl.figure(figsize=(14,14))\n",
    "ax = fig.add_subplot(111, projection='3d')\n",
    "X, Y = np.meshgrid(fwhms, dxs)\n",
    "zs = np.array([objective_function(data_sinc, model_sinc, [x, ifwhm, jdx]) \n",
    "               for ifwhm, jdx in zip(np.ravel(X), np.ravel(Y))])\n",
    "Z = zs.reshape(X.shape)\n",
    "\n",
    "ax.plot_surface(X, Y, Z)\n",
    "\n",
    "ax.set_xlabel('fwhm')\n",
    "ax.set_ylabel('dx')\n",
    "ax.set_zlabel('objective function')\n",
    "\n",
    "print 'minimum = ', np.nanmin(zs)"
   ]
  },
  {
   "cell_type": "code",
   "execution_count": null,
   "metadata": {},
   "outputs": [],
   "source": []
  }
 ],
 "metadata": {
  "kernelspec": {
   "display_name": "Python 2",
   "language": "python",
   "name": "python2"
  },
  "language_info": {
   "codemirror_mode": {
    "name": "ipython",
    "version": 2
   },
   "file_extension": ".py",
   "mimetype": "text/x-python",
   "name": "python",
   "nbconvert_exporter": "python",
   "pygments_lexer": "ipython2",
   "version": "2.7.12"
  }
 },
 "nbformat": 4,
 "nbformat_minor": 2
}
